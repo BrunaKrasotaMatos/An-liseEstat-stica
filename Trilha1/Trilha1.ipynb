{
  "nbformat": 4,
  "nbformat_minor": 0,
  "metadata": {
    "colab": {
      "provenance": [],
      "authorship_tag": "ABX9TyNYACWIJQu9SVy72ZlRh/nZ",
      "include_colab_link": true
    },
    "kernelspec": {
      "name": "ir",
      "display_name": "R"
    },
    "language_info": {
      "name": "R"
    }
  },
  "cells": [
    {
      "cell_type": "markdown",
      "metadata": {
        "id": "view-in-github",
        "colab_type": "text"
      },
      "source": [
        "<a href=\"https://colab.research.google.com/github/BrunaKrasotaMatos/An-liseEstat-stica/blob/main/Trilha1/Trilha1.ipynb\" target=\"_parent\"><img src=\"https://colab.research.google.com/assets/colab-badge.svg\" alt=\"Open In Colab\"/></a>"
      ]
    },
    {
      "cell_type": "code",
      "execution_count": 3,
      "metadata": {
        "colab": {
          "base_uri": "https://localhost:8080/",
          "height": 286
        },
        "id": "9_jfhfUxP7Kn",
        "outputId": "9bdd527d-4739-4d99-c4ff-21cf4d2b1575"
      },
      "outputs": [
        {
          "output_type": "display_data",
          "data": {
            "text/html": [
              "<table class=\"dataframe\">\n",
              "<caption>A data.frame: 6 × 8</caption>\n",
              "<thead>\n",
              "\t<tr><th></th><th scope=col>Cliente</th><th scope=col>Tipo.de.Cliente</th><th scope=col>Itens</th><th scope=col>Vendas.líquidas</th><th scope=col>Método.de.Pagamento</th><th scope=col>Gênero</th><th scope=col>Estado.Civil</th><th scope=col>Idade</th></tr>\n",
              "\t<tr><th></th><th scope=col>&lt;int&gt;</th><th scope=col>&lt;chr&gt;</th><th scope=col>&lt;int&gt;</th><th scope=col>&lt;dbl&gt;</th><th scope=col>&lt;chr&gt;</th><th scope=col>&lt;chr&gt;</th><th scope=col>&lt;chr&gt;</th><th scope=col>&lt;int&gt;</th></tr>\n",
              "</thead>\n",
              "<tbody>\n",
              "\t<tr><th scope=row>1</th><td>1</td><td>Regular    </td><td>1</td><td> 39.5</td><td>Discover           </td><td>Masculino</td><td>Casado</td><td>32</td></tr>\n",
              "\t<tr><th scope=row>2</th><td>2</td><td>Promocional</td><td>1</td><td>102.4</td><td>Cartão Proprietário</td><td>Feminino </td><td>Casado</td><td>36</td></tr>\n",
              "\t<tr><th scope=row>3</th><td>3</td><td>Regular    </td><td>1</td><td> 22.5</td><td>Cartão Proprietário</td><td>Feminino </td><td>Casado</td><td>32</td></tr>\n",
              "\t<tr><th scope=row>4</th><td>4</td><td>Promocional</td><td>5</td><td>100.4</td><td>Cartão Proprietário</td><td>Feminino </td><td>Casado</td><td>28</td></tr>\n",
              "\t<tr><th scope=row>5</th><td>5</td><td>Regular    </td><td>2</td><td> 54.0</td><td>MasterCard         </td><td>Feminino </td><td>Casado</td><td>34</td></tr>\n",
              "\t<tr><th scope=row>6</th><td>6</td><td>Regular    </td><td>1</td><td> 44.5</td><td>MasterCard         </td><td>Feminino </td><td>Casado</td><td>44</td></tr>\n",
              "</tbody>\n",
              "</table>\n"
            ],
            "text/markdown": "\nA data.frame: 6 × 8\n\n| <!--/--> | Cliente &lt;int&gt; | Tipo.de.Cliente &lt;chr&gt; | Itens &lt;int&gt; | Vendas.líquidas &lt;dbl&gt; | Método.de.Pagamento &lt;chr&gt; | Gênero &lt;chr&gt; | Estado.Civil &lt;chr&gt; | Idade &lt;int&gt; |\n|---|---|---|---|---|---|---|---|---|\n| 1 | 1 | Regular     | 1 |  39.5 | Discover            | Masculino | Casado | 32 |\n| 2 | 2 | Promocional | 1 | 102.4 | Cartão Proprietário | Feminino  | Casado | 36 |\n| 3 | 3 | Regular     | 1 |  22.5 | Cartão Proprietário | Feminino  | Casado | 32 |\n| 4 | 4 | Promocional | 5 | 100.4 | Cartão Proprietário | Feminino  | Casado | 28 |\n| 5 | 5 | Regular     | 2 |  54.0 | MasterCard          | Feminino  | Casado | 34 |\n| 6 | 6 | Regular     | 1 |  44.5 | MasterCard          | Feminino  | Casado | 44 |\n\n",
            "text/latex": "A data.frame: 6 × 8\n\\begin{tabular}{r|llllllll}\n  & Cliente & Tipo.de.Cliente & Itens & Vendas.líquidas & Método.de.Pagamento & Gênero & Estado.Civil & Idade\\\\\n  & <int> & <chr> & <int> & <dbl> & <chr> & <chr> & <chr> & <int>\\\\\n\\hline\n\t1 & 1 & Regular     & 1 &  39.5 & Discover            & Masculino & Casado & 32\\\\\n\t2 & 2 & Promocional & 1 & 102.4 & Cartão Proprietário & Feminino  & Casado & 36\\\\\n\t3 & 3 & Regular     & 1 &  22.5 & Cartão Proprietário & Feminino  & Casado & 32\\\\\n\t4 & 4 & Promocional & 5 & 100.4 & Cartão Proprietário & Feminino  & Casado & 28\\\\\n\t5 & 5 & Regular     & 2 &  54.0 & MasterCard          & Feminino  & Casado & 34\\\\\n\t6 & 6 & Regular     & 1 &  44.5 & MasterCard          & Feminino  & Casado & 44\\\\\n\\end{tabular}\n",
            "text/plain": [
              "  Cliente Tipo.de.Cliente Itens Vendas.líquidas Método.de.Pagamento Gênero   \n",
              "1 1       Regular         1      39.5           Discover            Masculino\n",
              "2 2       Promocional     1     102.4           Cartão Proprietário Feminino \n",
              "3 3       Regular         1      22.5           Cartão Proprietário Feminino \n",
              "4 4       Promocional     5     100.4           Cartão Proprietário Feminino \n",
              "5 5       Regular         2      54.0           MasterCard          Feminino \n",
              "6 6       Regular         1      44.5           MasterCard          Feminino \n",
              "  Estado.Civil Idade\n",
              "1 Casado       32   \n",
              "2 Casado       36   \n",
              "3 Casado       32   \n",
              "4 Casado       28   \n",
              "5 Casado       34   \n",
              "6 Casado       44   "
            ]
          },
          "metadata": {}
        }
      ],
      "source": [
        "# Import the data \n",
        "pelicanStores <- read.csv(file = 'PelicanStores_Bru.csv', stringsAsFactors = FALSE)\n",
        "head(pelicanStores)"
      ]
    },
    {
      "cell_type": "code",
      "source": [
        "moda_cliente = table(pelicanStores[,1])\n",
        "moda_cliente\n",
        "moda_tipo_cliente = table(pelicanStores[,2])\n",
        "moda_tipo_cliente\n",
        "moda_metodo_pg = table(pelicanStores[,5])\n",
        "moda_metodo_pg\n",
        "moda_gen = table(pelicanStores[,6])\n",
        "moda_gen\n",
        "moda_est_civil = table(pelicanStores[,7])\n",
        "moda_est_civil"
      ],
      "metadata": {
        "colab": {
          "base_uri": "https://localhost:8080/",
          "height": 463
        },
        "id": "e8_0L4sq26Sv",
        "outputId": "620c170c-044f-4631-9bad-7b3f94ef693f"
      },
      "execution_count": 5,
      "outputs": [
        {
          "output_type": "display_data",
          "data": {
            "text/plain": [
              "\n",
              "  1   2   3   4   5   6   7   8   9  10  11  12  13  14  15  16  17  18  19  20 \n",
              "  1   1   1   1   1   1   1   1   1   1   1   1   1   1   1   1   1   1   1   1 \n",
              " 21  22  23  24  25  26  27  28  29  30  31  32  33  34  35  36  37  38  39  40 \n",
              "  1   1   1   1   1   1   1   1   1   1   1   1   1   1   1   1   1   1   1   1 \n",
              " 41  42  43  44  45  46  47  48  49  50  51  52  53  54  55  56  57  58  59  60 \n",
              "  1   1   1   1   1   1   1   1   1   1   1   1   1   1   1   1   1   1   1   1 \n",
              " 61  62  63  64  65  66  67  68  69  70  71  72  73  74  75  76  77  78  79  80 \n",
              "  1   1   1   1   1   1   1   1   1   1   1   1   1   1   1   1   1   1   1   1 \n",
              " 81  82  83  84  85  86  87  88  89  90  91  92  93  94  95  96  97  98  99 100 \n",
              "  1   1   1   1   1   1   1   1   1   1   1   1   1   1   1   1   1   1   1   1 "
            ]
          },
          "metadata": {}
        },
        {
          "output_type": "display_data",
          "data": {
            "text/plain": [
              "\n",
              "Promocional     Regular \n",
              "         70          30 "
            ]
          },
          "metadata": {}
        },
        {
          "output_type": "display_data",
          "data": {
            "text/plain": [
              "\n",
              "   American Express Cartão Proprietário            Discover          MasterCard \n",
              "                  2                  70                   4                  14 \n",
              "               Visa \n",
              "                 10 "
            ]
          },
          "metadata": {}
        },
        {
          "output_type": "display_data",
          "data": {
            "text/plain": [
              "\n",
              " Feminino Masculino \n",
              "       93         7 "
            ]
          },
          "metadata": {}
        },
        {
          "output_type": "display_data",
          "data": {
            "text/plain": [
              "\n",
              "  Casado Solteiro \n",
              "      84       16 "
            ]
          },
          "metadata": {}
        }
      ]
    },
    {
      "cell_type": "code",
      "source": [
        "str(pelicanStores)"
      ],
      "metadata": {
        "colab": {
          "base_uri": "https://localhost:8080/"
        },
        "id": "qXaC7Gr1mbSl",
        "outputId": "506040da-3b75-4ddf-a4df-18e0d99355dd"
      },
      "execution_count": null,
      "outputs": [
        {
          "output_type": "stream",
          "name": "stdout",
          "text": [
            "'data.frame':\t100 obs. of  8 variables:\n",
            " $ Cliente            : int  1 2 3 4 5 6 7 8 9 10 ...\n",
            " $ Tipo.de.Cliente    : chr  \"Regular\" \"Promocional\" \"Regular\" \"Promocional\" ...\n",
            " $ Itens              : int  1 1 1 5 2 1 2 1 2 1 ...\n",
            " $ Vendas.líquidas    : num  39.5 102.4 22.5 100.4 54 ...\n",
            " $ Método.de.Pagamento: chr  \"Discover\" \"Cartão Proprietário\" \"Cartão Proprietário\" \"Cartão Proprietário\" ...\n",
            " $ Gênero             : chr  \"Masculino\" \"Feminino\" \"Feminino\" \"Feminino\" ...\n",
            " $ Estado.Civil       : chr  \"Casado\" \"Casado\" \"Casado\" \"Casado\" ...\n",
            " $ Idade              : int  32 36 32 28 34 44 30 40 46 36 ...\n"
          ]
        }
      ]
    },
    {
      "cell_type": "code",
      "source": [
        "# pegar algumas características\n",
        "summary(pelicanStores)"
      ],
      "metadata": {
        "colab": {
          "base_uri": "https://localhost:8080/",
          "height": 267
        },
        "id": "jr4ryLsrmxTa",
        "outputId": "88ba5592-75a8-449d-f2a8-b6c5b7285911"
      },
      "execution_count": null,
      "outputs": [
        {
          "output_type": "display_data",
          "data": {
            "text/plain": [
              "    Cliente       Tipo.de.Cliente        Itens       Vendas.líquidas \n",
              " Min.   :  1.00   Length:100         Min.   : 1.00   Min.   : 13.23  \n",
              " 1st Qu.: 25.75   Class :character   1st Qu.: 1.00   1st Qu.: 39.60  \n",
              " Median : 50.50   Mode  :character   Median : 2.00   Median : 59.70  \n",
              " Mean   : 50.50                      Mean   : 3.22   Mean   : 77.60  \n",
              " 3rd Qu.: 75.25                      3rd Qu.: 4.00   3rd Qu.:100.90  \n",
              " Max.   :100.00                      Max.   :17.00   Max.   :287.59  \n",
              " Método.de.Pagamento    Gênero          Estado.Civil           Idade      \n",
              " Length:100          Length:100         Length:100         Min.   :20.00  \n",
              " Class :character    Class :character   Class :character   1st Qu.:32.00  \n",
              " Mode  :character    Mode  :character   Mode  :character   Median :42.00  \n",
              "                                                           Mean   :43.08  \n",
              "                                                           3rd Qu.:50.00  \n",
              "                                                           Max.   :78.00  "
            ]
          },
          "metadata": {}
        }
      ]
    },
    {
      "cell_type": "code",
      "source": [
        "# se mesmo assim eu quiser calcular cada um separado\n",
        "# media de alguma coluna\n",
        "summary(pelicanStores[,3])\n",
        "media_itens = mean(pelicanStores[,3])\n",
        "media_itens\n",
        "# mediana da coluna itens\n",
        "mediana_itens = median(pelicanStores[,3])\n",
        "mediana_itens\n",
        "# desvio padrao\n",
        "desvio_padrao = sd(pelicanStores[,3])\n",
        "desvio_padrao\n",
        "# variancia\n",
        "variancia = var(pelicanStores[,3])\n",
        "variancia\n",
        "# Moda - não existe função moda\n",
        "# pedimos para ele listar os valores que aparecem\n",
        "# pode ser para variaveis não numéricas tbm\n",
        "moda = table(pelicanStores[,3])\n",
        "moda"
      ],
      "metadata": {
        "colab": {
          "base_uri": "https://localhost:8080/",
          "height": 176
        },
        "id": "C54yaVkRnS5z",
        "outputId": "21f8cb70-3f8c-4731-d09b-76aa974cd3d1"
      },
      "execution_count": null,
      "outputs": [
        {
          "output_type": "display_data",
          "data": {
            "text/plain": [
              "   Min. 1st Qu.  Median    Mean 3rd Qu.    Max. \n",
              "   1.00    1.00    2.00    3.22    4.00   17.00 "
            ]
          },
          "metadata": {}
        },
        {
          "output_type": "display_data",
          "data": {
            "text/html": [
              "3.22"
            ],
            "text/markdown": "3.22",
            "text/latex": "3.22",
            "text/plain": [
              "[1] 3.22"
            ]
          },
          "metadata": {}
        },
        {
          "output_type": "display_data",
          "data": {
            "text/html": [
              "2"
            ],
            "text/markdown": "2",
            "text/latex": "2",
            "text/plain": [
              "[1] 2"
            ]
          },
          "metadata": {}
        },
        {
          "output_type": "display_data",
          "data": {
            "text/html": [
              "2.73614046541194"
            ],
            "text/markdown": "2.73614046541194",
            "text/latex": "2.73614046541194",
            "text/plain": [
              "[1] 2.73614"
            ]
          },
          "metadata": {}
        },
        {
          "output_type": "display_data",
          "data": {
            "text/html": [
              "7.48646464646465"
            ],
            "text/markdown": "7.48646464646465",
            "text/latex": "7.48646464646465",
            "text/plain": [
              "[1] 7.486465"
            ]
          },
          "metadata": {}
        },
        {
          "output_type": "display_data",
          "data": {
            "text/plain": [
              "\n",
              " 1  2  3  4  5  6  7  8  9 10 13 17 \n",
              "29 27 10 10  9  7  1  1  3  1  1  1 "
            ]
          },
          "metadata": {}
        }
      ]
    },
    {
      "cell_type": "code",
      "source": [
        "# se mesmo assim eu quiser calcular cada um separado\n",
        "# media de alguma coluna\n",
        "summary(pelicanStores[,4])\n",
        "media_vendas_liq = mean(pelicanStores[,4])\n",
        "media_vendas_liq\n",
        "# mediana da coluna itens\n",
        "mediana_vendas_liq = median(pelicanStores[,4])\n",
        "mediana_vendas_liq\n",
        "# desvio padrao\n",
        "desvio_padrao_vendas_liq = sd(pelicanStores[,4])\n",
        "desvio_padrao_vendas_liq\n",
        "# variancia\n",
        "variancia_vendas_liq = var(pelicanStores[,4])\n",
        "variancia_vendas_liq\n",
        "# Moda - não existe função moda\n",
        "# pedimos para ele listar os valores que aparecem\n",
        "# pode ser para variaveis não numéricas tbm\n",
        "moda_vendas_liq = table(pelicanStores[,4])\n",
        "moda_vendas_liq"
      ],
      "metadata": {
        "colab": {
          "base_uri": "https://localhost:8080/",
          "height": 426
        },
        "id": "sY4WN1jP-K9x",
        "outputId": "7c41c068-206b-409b-d56d-db2afd266a23"
      },
      "execution_count": null,
      "outputs": [
        {
          "output_type": "display_data",
          "data": {
            "text/plain": [
              "   Min. 1st Qu.  Median    Mean 3rd Qu.    Max. \n",
              "  13.23   39.60   59.70   77.60  100.90  287.59 "
            ]
          },
          "metadata": {}
        },
        {
          "output_type": "display_data",
          "data": {
            "text/html": [
              "77.6005"
            ],
            "text/markdown": "77.6005",
            "text/latex": "77.6005",
            "text/plain": [
              "[1] 77.6005"
            ]
          },
          "metadata": {}
        },
        {
          "output_type": "display_data",
          "data": {
            "text/html": [
              "59.705"
            ],
            "text/markdown": "59.705",
            "text/latex": "59.705",
            "text/plain": [
              "[1] 59.705"
            ]
          },
          "metadata": {}
        },
        {
          "output_type": "display_data",
          "data": {
            "text/html": [
              "55.664938430349"
            ],
            "text/markdown": "55.664938430349",
            "text/latex": "55.664938430349",
            "text/plain": [
              "[1] 55.66494"
            ]
          },
          "metadata": {}
        },
        {
          "output_type": "display_data",
          "data": {
            "text/html": [
              "3098.58537045455"
            ],
            "text/markdown": "3098.58537045455",
            "text/latex": "3098.58537045455",
            "text/plain": [
              "[1] 3098.585"
            ]
          },
          "metadata": {}
        },
        {
          "output_type": "display_data",
          "data": {
            "text/plain": [
              "\n",
              " 13.23  14.82     18   19.5   20.8  22.42   22.5   23.8     25  28.44   29.5 \n",
              "     1      1      1      1      1      1      2      1      1      1      2 \n",
              " 30.02   31.6   37.5   38.5     39   39.5   39.6     40   44.5   44.8  45.22 \n",
              "     1      4      1      1      1      3      2      1      3      1      1 \n",
              "    46   46.5   47.2   47.6   49.5   52.5   53.2   53.6     54   54.5  56.52 \n",
              "     1      1      1      1      3      1      1      1      1      1      1 \n",
              "  57.6     58   58.5   59.5  59.91   62.4   63.2  63.64   64.5   65.2     66 \n",
              "     1      2      1      1      1      1      2      1      1      1      1 \n",
              "    69  70.82   71.2   71.4     74     75     78   80.4  84.74   86.8     89 \n",
              "     1      1      1      1      2      1      2      1      1      1      1 \n",
              "    94  95.05   95.2  100.4  102.4  102.5  105.5    107  108.8 111.14    113 \n",
              "     1      1      1      1      1      1      1      1      1      1      1 \n",
              " 117.5  118.8  123.1  123.5  141.6    144  145.2  146.8 155.32 159.75  160.4 \n",
              "     1      1      1      1      1      1      1      1      1      1      1 \n",
              "176.62  192.8  198.8  229.5    253    266 287.59 \n",
              "     1      1      1      1      1      1      1 "
            ]
          },
          "metadata": {}
        }
      ]
    },
    {
      "cell_type": "code",
      "source": [
        "# se mesmo assim eu quiser calcular cada um separado\n",
        "# media de alguma coluna\n",
        "summary(pelicanStores[,8])\n",
        "media_idade = mean(pelicanStores[,8])\n",
        "media_idade\n",
        "# mediana da coluna itens\n",
        "mediana_idade = median(pelicanStores[,8])\n",
        "mediana_idade\n",
        "# desvio padrao\n",
        "desvio_padrao_idade = sd(pelicanStores[,8])\n",
        "desvio_padrao_idade\n",
        "# variancia\n",
        "variancia_idade = var(pelicanStores[,8])\n",
        "variancia_idade\n",
        "# Moda - não existe função moda\n",
        "# pedimos para ele listar os valores que aparecem\n",
        "# pode ser para variaveis não numéricas tbm\n",
        "moda_idade = table(pelicanStores[,8])\n",
        "moda_idade"
      ],
      "metadata": {
        "colab": {
          "base_uri": "https://localhost:8080/",
          "height": 176
        },
        "id": "prSPTYAC_ush",
        "outputId": "80ddd3f9-c724-4f9f-c530-cd6c25de7db9"
      },
      "execution_count": null,
      "outputs": [
        {
          "output_type": "display_data",
          "data": {
            "text/plain": [
              "   Min. 1st Qu.  Median    Mean 3rd Qu.    Max. \n",
              "  20.00   32.00   42.00   43.08   50.00   78.00 "
            ]
          },
          "metadata": {}
        },
        {
          "output_type": "display_data",
          "data": {
            "text/html": [
              "43.08"
            ],
            "text/markdown": "43.08",
            "text/latex": "43.08",
            "text/plain": [
              "[1] 43.08"
            ]
          },
          "metadata": {}
        },
        {
          "output_type": "display_data",
          "data": {
            "text/html": [
              "42"
            ],
            "text/markdown": "42",
            "text/latex": "42",
            "text/plain": [
              "[1] 42"
            ]
          },
          "metadata": {}
        },
        {
          "output_type": "display_data",
          "data": {
            "text/html": [
              "12.3890469709532"
            ],
            "text/markdown": "12.3890469709532",
            "text/latex": "12.3890469709532",
            "text/plain": [
              "[1] 12.38905"
            ]
          },
          "metadata": {}
        },
        {
          "output_type": "display_data",
          "data": {
            "text/html": [
              "153.488484848485"
            ],
            "text/markdown": "153.488484848485",
            "text/latex": "153.488484848485",
            "text/plain": [
              "[1] 153.4885"
            ]
          },
          "metadata": {}
        },
        {
          "output_type": "display_data",
          "data": {
            "text/plain": [
              "\n",
              "20 22 24 28 30 32 34 36 38 40 42 44 46 48 50 52 54 56 58 60 62 68 70 72 74 78 \n",
              " 2  2  1  5  8  8  3  6  5  4  7  7  9  6  3  2  8  2  1  2  3  2  1  1  1  1 "
            ]
          },
          "metadata": {}
        }
      ]
    },
    {
      "cell_type": "code",
      "source": [
        "library(dplyr)\n",
        "media_itens = group_by(pelicanStores, Itens)\n",
        "#media_itens\n",
        "summarise(media_itens,mean(Idade))\n",
        "\n",
        "valores = pelicanStores[,4]\n",
        "valores\n",
        "#valores\n",
        "#b <- gsub(',', '.', valores)\n",
        "#valores_num = as.numeric(b)\n",
        "summarise(media_itens,mean(valores))"
      ],
      "metadata": {
        "colab": {
          "base_uri": "https://localhost:8080/",
          "height": 1000
        },
        "id": "tBH-kDKYsId7",
        "outputId": "4e7a2493-89ce-40b7-c387-4253be1c48b2"
      },
      "execution_count": null,
      "outputs": [
        {
          "output_type": "display_data",
          "data": {
            "text/html": [
              "<table class=\"dataframe\">\n",
              "<caption>A tibble: 12 × 2</caption>\n",
              "<thead>\n",
              "\t<tr><th scope=col>Itens</th><th scope=col>mean(Idade)</th></tr>\n",
              "\t<tr><th scope=col>&lt;int&gt;</th><th scope=col>&lt;dbl&gt;</th></tr>\n",
              "</thead>\n",
              "<tbody>\n",
              "\t<tr><td> 1</td><td>43.86207</td></tr>\n",
              "\t<tr><td> 2</td><td>42.96296</td></tr>\n",
              "\t<tr><td> 3</td><td>36.40000</td></tr>\n",
              "\t<tr><td> 4</td><td>42.80000</td></tr>\n",
              "\t<tr><td> 5</td><td>46.88889</td></tr>\n",
              "\t<tr><td> 6</td><td>45.42857</td></tr>\n",
              "\t<tr><td> 7</td><td>50.00000</td></tr>\n",
              "\t<tr><td> 8</td><td>54.00000</td></tr>\n",
              "\t<tr><td> 9</td><td>38.66667</td></tr>\n",
              "\t<tr><td>10</td><td>52.00000</td></tr>\n",
              "\t<tr><td>13</td><td>42.00000</td></tr>\n",
              "\t<tr><td>17</td><td>30.00000</td></tr>\n",
              "</tbody>\n",
              "</table>\n"
            ],
            "text/markdown": "\nA tibble: 12 × 2\n\n| Itens &lt;int&gt; | mean(Idade) &lt;dbl&gt; |\n|---|---|\n|  1 | 43.86207 |\n|  2 | 42.96296 |\n|  3 | 36.40000 |\n|  4 | 42.80000 |\n|  5 | 46.88889 |\n|  6 | 45.42857 |\n|  7 | 50.00000 |\n|  8 | 54.00000 |\n|  9 | 38.66667 |\n| 10 | 52.00000 |\n| 13 | 42.00000 |\n| 17 | 30.00000 |\n\n",
            "text/latex": "A tibble: 12 × 2\n\\begin{tabular}{ll}\n Itens & mean(Idade)\\\\\n <int> & <dbl>\\\\\n\\hline\n\t  1 & 43.86207\\\\\n\t  2 & 42.96296\\\\\n\t  3 & 36.40000\\\\\n\t  4 & 42.80000\\\\\n\t  5 & 46.88889\\\\\n\t  6 & 45.42857\\\\\n\t  7 & 50.00000\\\\\n\t  8 & 54.00000\\\\\n\t  9 & 38.66667\\\\\n\t 10 & 52.00000\\\\\n\t 13 & 42.00000\\\\\n\t 17 & 30.00000\\\\\n\\end{tabular}\n",
            "text/plain": [
              "   Itens mean(Idade)\n",
              "1   1    43.86207   \n",
              "2   2    42.96296   \n",
              "3   3    36.40000   \n",
              "4   4    42.80000   \n",
              "5   5    46.88889   \n",
              "6   6    45.42857   \n",
              "7   7    50.00000   \n",
              "8   8    54.00000   \n",
              "9   9    38.66667   \n",
              "10 10    52.00000   \n",
              "11 13    42.00000   \n",
              "12 17    30.00000   "
            ]
          },
          "metadata": {}
        },
        {
          "output_type": "display_data",
          "data": {
            "text/html": [
              "<style>\n",
              ".list-inline {list-style: none; margin:0; padding: 0}\n",
              ".list-inline>li {display: inline-block}\n",
              ".list-inline>li:not(:last-child)::after {content: \"\\00b7\"; padding: 0 .5ex}\n",
              "</style>\n",
              "<ol class=list-inline><li>39.5</li><li>102.4</li><li>22.5</li><li>100.4</li><li>54</li><li>44.5</li><li>78</li><li>22.5</li><li>56.52</li><li>44.5</li><li>29.5</li><li>31.6</li><li>160.4</li><li>64.5</li><li>49.5</li><li>71.4</li><li>94</li><li>54.5</li><li>38.5</li><li>44.8</li><li>31.6</li><li>70.82</li><li>266</li><li>74</li><li>39.5</li><li>30.02</li><li>44.5</li><li>192.8</li><li>71.2</li><li>18</li><li>63.2</li><li>75</li><li>63.2</li><li>40</li><li>105.5</li><li>29.5</li><li>102.5</li><li>117.5</li><li>13.23</li><li>52.5</li><li>198.8</li><li>19.5</li><li>123.5</li><li>62.4</li><li>23.8</li><li>39.6</li><li>25</li><li>63.64</li><li>14.82</li><li>145.2</li><li>176.62</li><li>118.8</li><li>58</li><li>74</li><li>49.5</li><li>141.6</li><li>123.1</li><li>80.4</li><li>65.2</li><li>113</li><li>108.8</li><li>59.91</li><li>53.6</li><li>31.6</li><li>49.5</li><li>39.6</li><li>59.5</li><li>146.8</li><li>47.2</li><li>95.05</li><li>155.32</li><li>58</li><li>69</li><li>46.5</li><li>45.22</li><li>84.74</li><li>39</li><li>111.14</li><li>86.8</li><li>89</li><li>78</li><li>53.2</li><li>58.5</li><li>46</li><li>37.5</li><li>20.8</li><li>144</li><li>107</li><li>31.6</li><li>57.6</li><li>95.2</li><li>22.42</li><li>159.75</li><li>229.5</li><li>66</li><li>39.5</li><li>253</li><li>287.59</li><li>47.6</li><li>28.44</li></ol>\n"
            ],
            "text/markdown": "1. 39.5\n2. 102.4\n3. 22.5\n4. 100.4\n5. 54\n6. 44.5\n7. 78\n8. 22.5\n9. 56.52\n10. 44.5\n11. 29.5\n12. 31.6\n13. 160.4\n14. 64.5\n15. 49.5\n16. 71.4\n17. 94\n18. 54.5\n19. 38.5\n20. 44.8\n21. 31.6\n22. 70.82\n23. 266\n24. 74\n25. 39.5\n26. 30.02\n27. 44.5\n28. 192.8\n29. 71.2\n30. 18\n31. 63.2\n32. 75\n33. 63.2\n34. 40\n35. 105.5\n36. 29.5\n37. 102.5\n38. 117.5\n39. 13.23\n40. 52.5\n41. 198.8\n42. 19.5\n43. 123.5\n44. 62.4\n45. 23.8\n46. 39.6\n47. 25\n48. 63.64\n49. 14.82\n50. 145.2\n51. 176.62\n52. 118.8\n53. 58\n54. 74\n55. 49.5\n56. 141.6\n57. 123.1\n58. 80.4\n59. 65.2\n60. 113\n61. 108.8\n62. 59.91\n63. 53.6\n64. 31.6\n65. 49.5\n66. 39.6\n67. 59.5\n68. 146.8\n69. 47.2\n70. 95.05\n71. 155.32\n72. 58\n73. 69\n74. 46.5\n75. 45.22\n76. 84.74\n77. 39\n78. 111.14\n79. 86.8\n80. 89\n81. 78\n82. 53.2\n83. 58.5\n84. 46\n85. 37.5\n86. 20.8\n87. 144\n88. 107\n89. 31.6\n90. 57.6\n91. 95.2\n92. 22.42\n93. 159.75\n94. 229.5\n95. 66\n96. 39.5\n97. 253\n98. 287.59\n99. 47.6\n100. 28.44\n\n\n",
            "text/latex": "\\begin{enumerate*}\n\\item 39.5\n\\item 102.4\n\\item 22.5\n\\item 100.4\n\\item 54\n\\item 44.5\n\\item 78\n\\item 22.5\n\\item 56.52\n\\item 44.5\n\\item 29.5\n\\item 31.6\n\\item 160.4\n\\item 64.5\n\\item 49.5\n\\item 71.4\n\\item 94\n\\item 54.5\n\\item 38.5\n\\item 44.8\n\\item 31.6\n\\item 70.82\n\\item 266\n\\item 74\n\\item 39.5\n\\item 30.02\n\\item 44.5\n\\item 192.8\n\\item 71.2\n\\item 18\n\\item 63.2\n\\item 75\n\\item 63.2\n\\item 40\n\\item 105.5\n\\item 29.5\n\\item 102.5\n\\item 117.5\n\\item 13.23\n\\item 52.5\n\\item 198.8\n\\item 19.5\n\\item 123.5\n\\item 62.4\n\\item 23.8\n\\item 39.6\n\\item 25\n\\item 63.64\n\\item 14.82\n\\item 145.2\n\\item 176.62\n\\item 118.8\n\\item 58\n\\item 74\n\\item 49.5\n\\item 141.6\n\\item 123.1\n\\item 80.4\n\\item 65.2\n\\item 113\n\\item 108.8\n\\item 59.91\n\\item 53.6\n\\item 31.6\n\\item 49.5\n\\item 39.6\n\\item 59.5\n\\item 146.8\n\\item 47.2\n\\item 95.05\n\\item 155.32\n\\item 58\n\\item 69\n\\item 46.5\n\\item 45.22\n\\item 84.74\n\\item 39\n\\item 111.14\n\\item 86.8\n\\item 89\n\\item 78\n\\item 53.2\n\\item 58.5\n\\item 46\n\\item 37.5\n\\item 20.8\n\\item 144\n\\item 107\n\\item 31.6\n\\item 57.6\n\\item 95.2\n\\item 22.42\n\\item 159.75\n\\item 229.5\n\\item 66\n\\item 39.5\n\\item 253\n\\item 287.59\n\\item 47.6\n\\item 28.44\n\\end{enumerate*}\n",
            "text/plain": [
              "  [1]  39.50 102.40  22.50 100.40  54.00  44.50  78.00  22.50  56.52  44.50\n",
              " [11]  29.50  31.60 160.40  64.50  49.50  71.40  94.00  54.50  38.50  44.80\n",
              " [21]  31.60  70.82 266.00  74.00  39.50  30.02  44.50 192.80  71.20  18.00\n",
              " [31]  63.20  75.00  63.20  40.00 105.50  29.50 102.50 117.50  13.23  52.50\n",
              " [41] 198.80  19.50 123.50  62.40  23.80  39.60  25.00  63.64  14.82 145.20\n",
              " [51] 176.62 118.80  58.00  74.00  49.50 141.60 123.10  80.40  65.20 113.00\n",
              " [61] 108.80  59.91  53.60  31.60  49.50  39.60  59.50 146.80  47.20  95.05\n",
              " [71] 155.32  58.00  69.00  46.50  45.22  84.74  39.00 111.14  86.80  89.00\n",
              " [81]  78.00  53.20  58.50  46.00  37.50  20.80 144.00 107.00  31.60  57.60\n",
              " [91]  95.20  22.42 159.75 229.50  66.00  39.50 253.00 287.59  47.60  28.44"
            ]
          },
          "metadata": {}
        },
        {
          "output_type": "display_data",
          "data": {
            "text/html": [
              "<table class=\"dataframe\">\n",
              "<caption>A tibble: 12 × 2</caption>\n",
              "<thead>\n",
              "\t<tr><th scope=col>Itens</th><th scope=col>mean(valores)</th></tr>\n",
              "\t<tr><th scope=col>&lt;int&gt;</th><th scope=col>&lt;dbl&gt;</th></tr>\n",
              "</thead>\n",
              "<tbody>\n",
              "\t<tr><td> 1</td><td>77.6005</td></tr>\n",
              "\t<tr><td> 2</td><td>77.6005</td></tr>\n",
              "\t<tr><td> 3</td><td>77.6005</td></tr>\n",
              "\t<tr><td> 4</td><td>77.6005</td></tr>\n",
              "\t<tr><td> 5</td><td>77.6005</td></tr>\n",
              "\t<tr><td> 6</td><td>77.6005</td></tr>\n",
              "\t<tr><td> 7</td><td>77.6005</td></tr>\n",
              "\t<tr><td> 8</td><td>77.6005</td></tr>\n",
              "\t<tr><td> 9</td><td>77.6005</td></tr>\n",
              "\t<tr><td>10</td><td>77.6005</td></tr>\n",
              "\t<tr><td>13</td><td>77.6005</td></tr>\n",
              "\t<tr><td>17</td><td>77.6005</td></tr>\n",
              "</tbody>\n",
              "</table>\n"
            ],
            "text/markdown": "\nA tibble: 12 × 2\n\n| Itens &lt;int&gt; | mean(valores) &lt;dbl&gt; |\n|---|---|\n|  1 | 77.6005 |\n|  2 | 77.6005 |\n|  3 | 77.6005 |\n|  4 | 77.6005 |\n|  5 | 77.6005 |\n|  6 | 77.6005 |\n|  7 | 77.6005 |\n|  8 | 77.6005 |\n|  9 | 77.6005 |\n| 10 | 77.6005 |\n| 13 | 77.6005 |\n| 17 | 77.6005 |\n\n",
            "text/latex": "A tibble: 12 × 2\n\\begin{tabular}{ll}\n Itens & mean(valores)\\\\\n <int> & <dbl>\\\\\n\\hline\n\t  1 & 77.6005\\\\\n\t  2 & 77.6005\\\\\n\t  3 & 77.6005\\\\\n\t  4 & 77.6005\\\\\n\t  5 & 77.6005\\\\\n\t  6 & 77.6005\\\\\n\t  7 & 77.6005\\\\\n\t  8 & 77.6005\\\\\n\t  9 & 77.6005\\\\\n\t 10 & 77.6005\\\\\n\t 13 & 77.6005\\\\\n\t 17 & 77.6005\\\\\n\\end{tabular}\n",
            "text/plain": [
              "   Itens mean(valores)\n",
              "1   1    77.6005      \n",
              "2   2    77.6005      \n",
              "3   3    77.6005      \n",
              "4   4    77.6005      \n",
              "5   5    77.6005      \n",
              "6   6    77.6005      \n",
              "7   7    77.6005      \n",
              "8   8    77.6005      \n",
              "9   9    77.6005      \n",
              "10 10    77.6005      \n",
              "11 13    77.6005      \n",
              "12 17    77.6005      "
            ]
          },
          "metadata": {}
        }
      ]
    }
  ]
}