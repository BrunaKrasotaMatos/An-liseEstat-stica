{
  "nbformat": 4,
  "nbformat_minor": 0,
  "metadata": {
    "colab": {
      "provenance": [],
      "authorship_tag": "ABX9TyOuzabWwWoKoDPbzi3OKSRX",
      "include_colab_link": true
    },
    "kernelspec": {
      "name": "ir",
      "display_name": "R"
    },
    "language_info": {
      "name": "R"
    }
  },
  "cells": [
    {
      "cell_type": "markdown",
      "metadata": {
        "id": "view-in-github",
        "colab_type": "text"
      },
      "source": [
        "<a href=\"https://colab.research.google.com/github/BrunaKrasotaMatos/An-liseEstat-stica/blob/main/Trilha2/Trilha2.ipynb\" target=\"_parent\"><img src=\"https://colab.research.google.com/assets/colab-badge.svg\" alt=\"Open In Colab\"/></a>"
      ]
    },
    {
      "cell_type": "code",
      "execution_count": 2,
      "metadata": {
        "colab": {
          "base_uri": "https://localhost:8080/",
          "height": 52
        },
        "id": "9_jfhfUxP7Kn",
        "outputId": "06d67266-bd88-47cb-bc07-a30ecf978c83"
      },
      "outputs": [
        {
          "output_type": "display_data",
          "data": {
            "text/html": [
              "1.47572957474524"
            ],
            "text/markdown": "1.47572957474524",
            "text/latex": "1.47572957474524",
            "text/plain": [
              "[1] 1.47573"
            ]
          },
          "metadata": {}
        },
        {
          "output_type": "display_data",
          "data": {
            "text/html": [
              "1.64485362695147"
            ],
            "text/markdown": "1.64485362695147",
            "text/latex": "1.64485362695147",
            "text/plain": [
              "[1] 1.644854"
            ]
          },
          "metadata": {}
        }
      ],
      "source": [
        "#Exemplo aula\n",
        "media_pop = 300\n",
        "tam_amostra = 10\n",
        "media_amostra = 314\n",
        "DP_pop = 30\n",
        "alfa = 0.05 #5%\n",
        "\n",
        "#qnorm é a funcao que vai buscar na tabela\n",
        "z_critico_bi = qnorm(1-alfa) # z_critico bilateral\n",
        "z_critico_uni = qnorm(1-alfa/2) # z_critico unilateral\n",
        "\n",
        "z_observado = (media_amostra - media_pop)/(DP_pop/(sqrt(tam_amostra)))\n",
        "z_observado\n",
        "z_critico_bi"
      ]
    },
    {
      "cell_type": "code",
      "source": [
        "#Exercício 1\n",
        "media_pop_pin = 15.4\n",
        "tam_amostra_pin = 35\n",
        "media_amostra_pin = 14.1\n",
        "DP_pop_pin = 2\n",
        "alfa_pin = 0.05 #5%\n",
        "\n",
        "#qnorm é a funcao que vai buscar na tabela\n",
        "z_critico_bi_pin = qnorm(1-alfa_pin) # z_critico bilateral\n",
        "z_critico_uni_pin = qnorm(1-alfa_pin/2) # z_critico unilateral\n",
        "\n",
        "z_observado_pin = (media_amostra_pin - media_pop_pin)/(DP_pop_pin/(sqrt(tam_amostra_pin)))\n",
        "z_observado_pin\n",
        "z_critico_uni_pin"
      ],
      "metadata": {
        "id": "PJkfGMxxZd4n",
        "outputId": "684ffc67-63de-469f-ae26-aac44599286a",
        "colab": {
          "base_uri": "https://localhost:8080/",
          "height": 52
        }
      },
      "execution_count": 4,
      "outputs": [
        {
          "output_type": "display_data",
          "data": {
            "text/html": [
              "-3.84545185901475"
            ],
            "text/markdown": "-3.84545185901475",
            "text/latex": "-3.84545185901475",
            "text/plain": [
              "[1] -3.845452"
            ]
          },
          "metadata": {}
        },
        {
          "output_type": "display_data",
          "data": {
            "text/html": [
              "1.95996398454005"
            ],
            "text/markdown": "1.95996398454005",
            "text/latex": "1.95996398454005",
            "text/plain": [
              "[1] 1.959964"
            ]
          },
          "metadata": {}
        }
      ]
    },
    {
      "cell_type": "code",
      "source": [
        "#Exercício 2\n",
        "media_pop_cer = 53\n",
        "tam_amostra_cer = 15\n",
        "media_amostra_cer = 50\n",
        "DP_pop_cer = 8\n",
        "alfa_cer = 0.05 #5%\n",
        "\n",
        "#qnorm é a funcao que vai buscar na tabela\n",
        "z_critico_bi_cer = qnorm(1-alfa_cer) # z_critico bilateral\n",
        "z_critico_uni_cer = qnorm(1-alfa_cer/2) # z_critico unilateral\n",
        "\n",
        "z_observado_cer = (media_amostra_cer - media_pop_cer)/(DP_pop_cer/(sqrt(tam_amostra_cer)))\n",
        "z_observado_cer\n",
        "z_critico_uni_cer"
      ],
      "metadata": {
        "id": "kT14ycKXatLA",
        "outputId": "c292d5de-1340-44b1-8468-d95886c1f04c",
        "colab": {
          "base_uri": "https://localhost:8080/",
          "height": 52
        }
      },
      "execution_count": 7,
      "outputs": [
        {
          "output_type": "display_data",
          "data": {
            "text/html": [
              "-1.45236875482778"
            ],
            "text/markdown": "-1.45236875482778",
            "text/latex": "-1.45236875482778",
            "text/plain": [
              "[1] -1.452369"
            ]
          },
          "metadata": {}
        },
        {
          "output_type": "display_data",
          "data": {
            "text/html": [
              "1.95996398454005"
            ],
            "text/markdown": "1.95996398454005",
            "text/latex": "1.95996398454005",
            "text/plain": [
              "[1] 1.959964"
            ]
          },
          "metadata": {}
        }
      ]
    }
  ]
}