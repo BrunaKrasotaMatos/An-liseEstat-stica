{
  "nbformat": 4,
  "nbformat_minor": 0,
  "metadata": {
    "colab": {
      "provenance": [],
      "authorship_tag": "ABX9TyP4c5XlDnfl2KHuAQVvnfuC",
      "include_colab_link": true
    },
    "kernelspec": {
      "name": "ir",
      "display_name": "R"
    },
    "language_info": {
      "name": "R"
    }
  },
  "cells": [
    {
      "cell_type": "markdown",
      "metadata": {
        "id": "view-in-github",
        "colab_type": "text"
      },
      "source": [
        "<a href=\"https://colab.research.google.com/github/BrunaKrasotaMatos/An-liseEstat-stica/blob/main/Trilha3/Trilha3.ipynb\" target=\"_parent\"><img src=\"https://colab.research.google.com/assets/colab-badge.svg\" alt=\"Open In Colab\"/></a>"
      ]
    },
    {
      "cell_type": "code",
      "execution_count": 7,
      "metadata": {
        "colab": {
          "base_uri": "https://localhost:8080/"
        },
        "id": "9_jfhfUxP7Kn",
        "outputId": "7becd989-6c9c-4fd3-8d63-43a56e658950"
      },
      "outputs": [
        {
          "output_type": "stream",
          "name": "stderr",
          "text": [
            "Installing package into ‘/usr/local/lib/R/site-library’\n",
            "(as ‘lib’ is unspecified)\n",
            "\n",
            "Installing package into ‘/usr/local/lib/R/site-library’\n",
            "(as ‘lib’ is unspecified)\n",
            "\n",
            "also installing the dependencies ‘numDeriv’, ‘SparseM’, ‘MatrixModels’, ‘sp’, ‘minqa’, ‘nloptr’, ‘RcppEigen’, ‘carData’, ‘abind’, ‘pbkrtest’, ‘quantreg’, ‘maptools’, ‘lme4’, ‘Rcpp’, ‘corrplot’, ‘car’, ‘ggrepel’, ‘ggsci’, ‘cowplot’, ‘ggsignif’, ‘gridExtra’, ‘polynom’, ‘rstatix’\n",
            "\n",
            "\n",
            "Warning message in install.packages(\"ggpubr\"):\n",
            "“installation of package ‘quantreg’ had non-zero exit status”\n",
            "Warning message in install.packages(\"ggpubr\"):\n",
            "“installation of package ‘car’ had non-zero exit status”\n",
            "Warning message in install.packages(\"ggpubr\"):\n",
            "“installation of package ‘rstatix’ had non-zero exit status”\n",
            "Warning message in install.packages(\"ggpubr\"):\n",
            "“installation of package ‘ggpubr’ had non-zero exit status”\n"
          ]
        }
      ],
      "source": [
        "# caso não tenha, instale a biblioteca ggplot2\n",
        "install.packages(\"ggplot2\")\n",
        "install.packages(\"ggpubr\")"
      ]
    },
    {
      "cell_type": "code",
      "source": [
        "# Pacotes\n",
        "library(readr)\n",
        "library(data.table)\n",
        "library(dplyr)\n",
        "library(ggplot2)\n",
        "#library(ggpubr)\n",
        "\n",
        "# Definir as classes\n",
        "classes <- c(\"numeric\",\"character\",\"character\",\"character\",\"numeric\",\"numeric\",\"numeric\",\"numeric\",\"numeric\",\"numeric\")\n",
        "data(diamonds)\n",
        "diamantes <- diamonds\n",
        "\n",
        "# Para fazer uma primeira análise\n",
        "head(diamantes)"
      ],
      "metadata": {
        "id": "WW29jmJtSYJO",
        "outputId": "c229c7f7-733d-4226-d7aa-71e40b688513",
        "colab": {
          "base_uri": "https://localhost:8080/",
          "height": 286
        }
      },
      "execution_count": 11,
      "outputs": [
        {
          "output_type": "display_data",
          "data": {
            "text/html": [
              "<table class=\"dataframe\">\n",
              "<caption>A tibble: 6 × 10</caption>\n",
              "<thead>\n",
              "\t<tr><th scope=col>carat</th><th scope=col>cut</th><th scope=col>color</th><th scope=col>clarity</th><th scope=col>depth</th><th scope=col>table</th><th scope=col>price</th><th scope=col>x</th><th scope=col>y</th><th scope=col>z</th></tr>\n",
              "\t<tr><th scope=col>&lt;dbl&gt;</th><th scope=col>&lt;ord&gt;</th><th scope=col>&lt;ord&gt;</th><th scope=col>&lt;ord&gt;</th><th scope=col>&lt;dbl&gt;</th><th scope=col>&lt;dbl&gt;</th><th scope=col>&lt;int&gt;</th><th scope=col>&lt;dbl&gt;</th><th scope=col>&lt;dbl&gt;</th><th scope=col>&lt;dbl&gt;</th></tr>\n",
              "</thead>\n",
              "<tbody>\n",
              "\t<tr><td>0.23</td><td>Ideal    </td><td>E</td><td>SI2 </td><td>61.5</td><td>55</td><td>326</td><td>3.95</td><td>3.98</td><td>2.43</td></tr>\n",
              "\t<tr><td>0.21</td><td>Premium  </td><td>E</td><td>SI1 </td><td>59.8</td><td>61</td><td>326</td><td>3.89</td><td>3.84</td><td>2.31</td></tr>\n",
              "\t<tr><td>0.23</td><td>Good     </td><td>E</td><td>VS1 </td><td>56.9</td><td>65</td><td>327</td><td>4.05</td><td>4.07</td><td>2.31</td></tr>\n",
              "\t<tr><td>0.29</td><td>Premium  </td><td>I</td><td>VS2 </td><td>62.4</td><td>58</td><td>334</td><td>4.20</td><td>4.23</td><td>2.63</td></tr>\n",
              "\t<tr><td>0.31</td><td>Good     </td><td>J</td><td>SI2 </td><td>63.3</td><td>58</td><td>335</td><td>4.34</td><td>4.35</td><td>2.75</td></tr>\n",
              "\t<tr><td>0.24</td><td>Very Good</td><td>J</td><td>VVS2</td><td>62.8</td><td>57</td><td>336</td><td>3.94</td><td>3.96</td><td>2.48</td></tr>\n",
              "</tbody>\n",
              "</table>\n"
            ],
            "text/markdown": "\nA tibble: 6 × 10\n\n| carat &lt;dbl&gt; | cut &lt;ord&gt; | color &lt;ord&gt; | clarity &lt;ord&gt; | depth &lt;dbl&gt; | table &lt;dbl&gt; | price &lt;int&gt; | x &lt;dbl&gt; | y &lt;dbl&gt; | z &lt;dbl&gt; |\n|---|---|---|---|---|---|---|---|---|---|\n| 0.23 | Ideal     | E | SI2  | 61.5 | 55 | 326 | 3.95 | 3.98 | 2.43 |\n| 0.21 | Premium   | E | SI1  | 59.8 | 61 | 326 | 3.89 | 3.84 | 2.31 |\n| 0.23 | Good      | E | VS1  | 56.9 | 65 | 327 | 4.05 | 4.07 | 2.31 |\n| 0.29 | Premium   | I | VS2  | 62.4 | 58 | 334 | 4.20 | 4.23 | 2.63 |\n| 0.31 | Good      | J | SI2  | 63.3 | 58 | 335 | 4.34 | 4.35 | 2.75 |\n| 0.24 | Very Good | J | VVS2 | 62.8 | 57 | 336 | 3.94 | 3.96 | 2.48 |\n\n",
            "text/latex": "A tibble: 6 × 10\n\\begin{tabular}{llllllllll}\n carat & cut & color & clarity & depth & table & price & x & y & z\\\\\n <dbl> & <ord> & <ord> & <ord> & <dbl> & <dbl> & <int> & <dbl> & <dbl> & <dbl>\\\\\n\\hline\n\t 0.23 & Ideal     & E & SI2  & 61.5 & 55 & 326 & 3.95 & 3.98 & 2.43\\\\\n\t 0.21 & Premium   & E & SI1  & 59.8 & 61 & 326 & 3.89 & 3.84 & 2.31\\\\\n\t 0.23 & Good      & E & VS1  & 56.9 & 65 & 327 & 4.05 & 4.07 & 2.31\\\\\n\t 0.29 & Premium   & I & VS2  & 62.4 & 58 & 334 & 4.20 & 4.23 & 2.63\\\\\n\t 0.31 & Good      & J & SI2  & 63.3 & 58 & 335 & 4.34 & 4.35 & 2.75\\\\\n\t 0.24 & Very Good & J & VVS2 & 62.8 & 57 & 336 & 3.94 & 3.96 & 2.48\\\\\n\\end{tabular}\n",
            "text/plain": [
              "  carat cut       color clarity depth table price x    y    z   \n",
              "1 0.23  Ideal     E     SI2     61.5  55    326   3.95 3.98 2.43\n",
              "2 0.21  Premium   E     SI1     59.8  61    326   3.89 3.84 2.31\n",
              "3 0.23  Good      E     VS1     56.9  65    327   4.05 4.07 2.31\n",
              "4 0.29  Premium   I     VS2     62.4  58    334   4.20 4.23 2.63\n",
              "5 0.31  Good      J     SI2     63.3  58    335   4.34 4.35 2.75\n",
              "6 0.24  Very Good J     VVS2    62.8  57    336   3.94 3.96 2.48"
            ]
          },
          "metadata": {}
        }
      ]
    },
    {
      "cell_type": "code",
      "source": [
        "# Inspecionando os dados\n",
        "str(diamantes, strict.width = \"wrap\", give.attr = FALSE)"
      ],
      "metadata": {
        "id": "HCfq52_teyn-",
        "outputId": "d36baad7-96a3-40fe-db84-8d24130da0ec",
        "colab": {
          "base_uri": "https://localhost:8080/"
        }
      },
      "execution_count": 12,
      "outputs": [
        {
          "output_type": "stream",
          "name": "stdout",
          "text": [
            "tibble [53,940 × 10] (S3: tbl_df/tbl/data.frame)\n",
            "$ carat : num [1:53940] 0.23 0.21 0.23 0.29 0.31 0.24 0.24 0.26 0.22 0.23 ...\n",
            "$ cut : Ord.factor w/ 5 levels \"Fair\"<\"Good\"<..: 5 4 2 4 2 3 3 3 1 3 ...\n",
            "$ color : Ord.factor w/ 7 levels \"D\"<\"E\"<\"F\"<\"G\"<..: 2 2 2 6 7 7 6 5 2 5 ...\n",
            "$ clarity: Ord.factor w/ 8 levels \"I1\"<\"SI2\"<\"SI1\"<..: 2 3 5 4 2 6 7 3 4 5 ...\n",
            "$ depth : num [1:53940] 61.5 59.8 56.9 62.4 63.3 62.8 62.3 61.9 65.1 59.4 ...\n",
            "$ table : num [1:53940] 55 61 65 58 58 57 57 55 61 61 ...\n",
            "$ price : int [1:53940] 326 326 327 334 335 336 336 337 337 338 ...\n",
            "$ x : num [1:53940] 3.95 3.89 4.05 4.2 4.34 3.94 3.95 4.07 3.87 4 ...\n",
            "$ y : num [1:53940] 3.98 3.84 4.07 4.23 4.35 3.96 3.98 4.11 3.78 4.05 ...\n",
            "$ z : num [1:53940] 2.43 2.31 2.31 2.63 2.75 2.48 2.47 2.53 2.49 2.39 ...\n"
          ]
        }
      ]
    },
    {
      "cell_type": "code",
      "source": [
        "# Analisando os dados pelo summary\n",
        "summary(diamantes)\n",
        "#Analiso se os valores sao coerentes, se os min e max fazem sentido\n",
        "# para as variaveis nao numéricas eu tenho a moda"
      ],
      "metadata": {
        "id": "OWlFEUaqfYN2",
        "outputId": "2b8216ef-8d30-4447-c70b-747f95d0fff1",
        "colab": {
          "base_uri": "https://localhost:8080/",
          "height": 446
        }
      },
      "execution_count": 13,
      "outputs": [
        {
          "output_type": "display_data",
          "data": {
            "text/plain": [
              "     carat               cut        color        clarity          depth      \n",
              " Min.   :0.2000   Fair     : 1610   D: 6775   SI1    :13065   Min.   :43.00  \n",
              " 1st Qu.:0.4000   Good     : 4906   E: 9797   VS2    :12258   1st Qu.:61.00  \n",
              " Median :0.7000   Very Good:12082   F: 9542   SI2    : 9194   Median :61.80  \n",
              " Mean   :0.7979   Premium  :13791   G:11292   VS1    : 8171   Mean   :61.75  \n",
              " 3rd Qu.:1.0400   Ideal    :21551   H: 8304   VVS2   : 5066   3rd Qu.:62.50  \n",
              " Max.   :5.0100                     I: 5422   VVS1   : 3655   Max.   :79.00  \n",
              "                                    J: 2808   (Other): 2531                  \n",
              "     table           price             x                y         \n",
              " Min.   :43.00   Min.   :  326   Min.   : 0.000   Min.   : 0.000  \n",
              " 1st Qu.:56.00   1st Qu.:  950   1st Qu.: 4.710   1st Qu.: 4.720  \n",
              " Median :57.00   Median : 2401   Median : 5.700   Median : 5.710  \n",
              " Mean   :57.46   Mean   : 3933   Mean   : 5.731   Mean   : 5.735  \n",
              " 3rd Qu.:59.00   3rd Qu.: 5324   3rd Qu.: 6.540   3rd Qu.: 6.540  \n",
              " Max.   :95.00   Max.   :18823   Max.   :10.740   Max.   :58.900  \n",
              "                                                                  \n",
              "       z         \n",
              " Min.   : 0.000  \n",
              " 1st Qu.: 2.910  \n",
              " Median : 3.530  \n",
              " Mean   : 3.539  \n",
              " 3rd Qu.: 4.040  \n",
              " Max.   :31.800  \n",
              "                 "
            ]
          },
          "metadata": {}
        }
      ]
    },
    {
      "cell_type": "code",
      "source": [
        "# Grafico box plot\n",
        "ggplot(data=diamantes) +\n",
        "  geom_boxplot(\n",
        "    aes(x = \"Price\",\n",
        "        y = price),width = 0.3, varwidth = F) +\n",
        "    labs(y = \"Price\",\n",
        "         x = \"\", caption = \"Fonte: El\") +\n",
        "    geom_abline(slope=0, intercept=3933, color=\"red\") +\n",
        "    scale_x_discrete(labels = NULL, breaks = NULL)\n",
        "    "
      ],
      "metadata": {
        "id": "IJWQ_bn5gSMG",
        "outputId": "ab1a484b-836c-47c2-a32f-c647852a3e17",
        "colab": {
          "base_uri": "https://localhost:8080/",
          "height": 437
        }
      },
      "execution_count": 17,
      "outputs": [
        {
          "output_type": "display_data",
          "data": {
            "text/plain": [
              "plot without title"
            ],
            "image/png": "[encoded data removed]"
          },
          "metadata": {
            "image/png": {
              "width": 420,
              "height": 420
            }
          }
        }
      ]
    }
  ]
}