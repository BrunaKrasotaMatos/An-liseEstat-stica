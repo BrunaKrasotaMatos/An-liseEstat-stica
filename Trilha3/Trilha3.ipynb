{
  "nbformat": 4,
  "nbformat_minor": 0,
  "metadata": {
    "colab": {
      "provenance": [],
      "authorship_tag": "ABX9TyPvogKetclA6BLvigXD77Mr",
      "include_colab_link": true
    },
    "kernelspec": {
      "name": "ir",
      "display_name": "R"
    },
    "language_info": {
      "name": "R"
    }
  },
  "cells": [
    {
      "cell_type": "markdown",
      "metadata": {
        "id": "view-in-github",
        "colab_type": "text"
      },
      "source": [
        "<a href=\"https://colab.research.google.com/github/BrunaKrasotaMatos/An-liseEstat-stica/blob/main/Trilha3/Trilha3.ipynb\" target=\"_parent\"><img src=\"https://colab.research.google.com/assets/colab-badge.svg\" alt=\"Open In Colab\"/></a>"
      ]
    },
    {
      "cell_type": "code",
      "execution_count": null,
      "metadata": {
        "colab": {
          "base_uri": "https://localhost:8080/"
        },
        "id": "9_jfhfUxP7Kn",
        "outputId": "7595b1fe-3910-4f0f-fbf6-1f771dba9e67"
      },
      "outputs": [
        {
          "output_type": "stream",
          "name": "stderr",
          "text": [
            "Installing package into ‘/usr/local/lib/R/site-library’\n",
            "(as ‘lib’ is unspecified)\n",
            "\n",
            "Installing package into ‘/usr/local/lib/R/site-library’\n",
            "(as ‘lib’ is unspecified)\n",
            "\n",
            "also installing the dependencies ‘numDeriv’, ‘SparseM’, ‘MatrixModels’, ‘sp’, ‘minqa’, ‘nloptr’, ‘RcppEigen’, ‘carData’, ‘abind’, ‘pbkrtest’, ‘quantreg’, ‘maptools’, ‘lme4’, ‘Rcpp’, ‘corrplot’, ‘car’, ‘ggrepel’, ‘ggsci’, ‘cowplot’, ‘ggsignif’, ‘gridExtra’, ‘polynom’, ‘rstatix’\n",
            "\n",
            "\n",
            "Warning message in install.packages(\"ggpubr\"):\n",
            "“installation of package ‘quantreg’ had non-zero exit status”\n"
          ]
        }
      ],
      "source": [
        "# caso não tenha, instale a biblioteca ggplot2\n",
        "install.packages(\"ggplot2\")\n",
        "install.packages(\"ggpubr\")"
      ]
    },
    {
      "cell_type": "code",
      "source": [
        "# Pacotes\n",
        "library(readr)\n",
        "library(data.table)\n",
        "library(dplyr)\n",
        "library(ggplot2)\n",
        "library(ggpubr)\n",
        "\n",
        "# Definir as classes\n",
        "classes <- c(\"numeric\",\"character\",\"character\",\"character\",\"numeric\",\"numeric\",\"numeric\",\"numeric\",\"numeric\",\"numeric\")\n",
        "data(diamonds)\n",
        "diamantes <- diamonds\n",
        "head(diamantes)"
      ],
      "metadata": {
        "id": "WW29jmJtSYJO"
      },
      "execution_count": null,
      "outputs": []
    }
  ]
}